{
 "cells": [
  {
   "cell_type": "code",
   "execution_count": 23,
   "metadata": {},
   "outputs": [],
   "source": [
    "import logging\n",
    "from typing import Dict, List, Callable, Any, Optional, Type\n",
    "from types import SimpleNamespace\n",
    "from semantic_kernel import Kernel\n",
    "from semantic_kernel.functions import KernelFunction\n",
    "from semantic_kernel.agents.azure_ai.azure_ai_agent import AzureAIAgent\n",
    "import inspect\n",
    "# Import all specialized agent implementations\n",
    "from semantic_kernel.prompt_template.prompt_template_config import PromptTemplateConfig\n",
    "\n",
    "from azure.ai.projects.models import (\n",
    "    ResponseFormatJsonSchema,\n",
    "    ResponseFormatJsonSchemaType)"
   ]
  },
  {
   "cell_type": "code",
   "execution_count": 24,
   "metadata": {},
   "outputs": [],
   "source": [
    "from dotenv import load_dotenv\n",
    "from azure.identity import DefaultAzureCredential, ClientSecretCredential\n",
    "from azure.ai.projects.aio import AIProjectClient\n",
    "import os"
   ]
  },
  {
   "cell_type": "code",
   "execution_count": 25,
   "metadata": {},
   "outputs": [
    {
     "data": {
      "text/plain": [
       "True"
      ]
     },
     "execution_count": 25,
     "metadata": {},
     "output_type": "execute_result"
    }
   ],
   "source": [
    "load_dotenv(\"../backend/.env\")"
   ]
  },
  {
   "cell_type": "code",
   "execution_count": 26,
   "metadata": {},
   "outputs": [],
   "source": [
    "try:\n",
    "    credential = DefaultAzureCredential()\n",
    "    if credential is None:\n",
    "        raise RuntimeError(\n",
    "            \"Unable to acquire Azure credentials; ensure DefaultAzureCredential is configured\"\n",
    "        )\n",
    "\n",
    "    connection_string = os.getenv(\"AZURE_AI_AGENT_PROJECT_CONNECTION_STRING\")\n",
    "    ai_project_client = AIProjectClient.from_connection_string(\n",
    "        credential=credential, conn_str=connection_string\n",
    "    )\n",
    "except Exception as exc:\n",
    "    logging.error(\"Failed to create AIProjectClient: %s\", exc)\n",
    "    raise\n"
   ]
  },
  {
   "cell_type": "code",
   "execution_count": 47,
   "metadata": {},
   "outputs": [],
   "source": [
    "agents = await ai_project_client.agents.list_agents()"
   ]
  },
  {
   "cell_type": "code",
   "execution_count": 48,
   "metadata": {},
   "outputs": [],
   "source": [
    "found_agent = False\n",
    "for agent in agents.data:\n",
    "    if agent.name == \"Company_Analyst_Agent\":\n",
    "        found_agent = agent\n",
    "        break"
   ]
  },
  {
   "cell_type": "code",
   "execution_count": 49,
   "metadata": {},
   "outputs": [
    {
     "data": {
      "text/plain": [
       "'asst_5MsMxP4QWX0dbo7pGjq2Fy82'"
      ]
     },
     "execution_count": 49,
     "metadata": {},
     "output_type": "execute_result"
    }
   ],
   "source": [
    "found_agent.id"
   ]
  },
  {
   "cell_type": "code",
   "execution_count": 50,
   "metadata": {},
   "outputs": [
    {
     "name": "stdout",
     "output_type": "stream",
     "text": [
      "Agent ID: asst_0MxSoYMCoYsfNCRPemMmIU3i Name: SEC_Agent Description: None\n",
      "Agent asst_0MxSoYMCoYsfNCRPemMmIU3i deleted: {'id': 'asst_0MxSoYMCoYsfNCRPemMmIU3i', 'object': 'assistant.deleted', 'deleted': True}\n",
      "Agent ID: asst_QSFkePI9mBwe74GNNnujZHDE Name: SEC_Agent Description: None\n",
      "Agent asst_QSFkePI9mBwe74GNNnujZHDE deleted: {'id': 'asst_QSFkePI9mBwe74GNNnujZHDE', 'object': 'assistant.deleted', 'deleted': True}\n",
      "Agent ID: asst_Q0Ogv8ragnuJepltcM9oErze Name: Technical_Agent Description: None\n",
      "Agent asst_Q0Ogv8ragnuJepltcM9oErze deleted: {'id': 'asst_Q0Ogv8ragnuJepltcM9oErze', 'object': 'assistant.deleted', 'deleted': True}\n",
      "Agent ID: asst_xxhJvkiF55scsHQ5x9vB9vTr Name: Technical_Agent Description: None\n",
      "Agent asst_xxhJvkiF55scsHQ5x9vB9vTr deleted: {'id': 'asst_xxhJvkiF55scsHQ5x9vB9vTr', 'object': 'assistant.deleted', 'deleted': True}\n",
      "Agent ID: asst_QNd7YKKuMXh9QFUmbvZjgcDR Name: Fundamental_Agent Description: None\n",
      "Agent asst_QNd7YKKuMXh9QFUmbvZjgcDR deleted: {'id': 'asst_QNd7YKKuMXh9QFUmbvZjgcDR', 'object': 'assistant.deleted', 'deleted': True}\n",
      "Agent ID: asst_U7sQGVl3p4VLWQCQF0DcUZBm Name: Fundamental_Agent Description: None\n",
      "Agent asst_U7sQGVl3p4VLWQCQF0DcUZBm deleted: {'id': 'asst_U7sQGVl3p4VLWQCQF0DcUZBm', 'object': 'assistant.deleted', 'deleted': True}\n",
      "Agent ID: asst_uDUAZq1cxoCnQ0JB3STo2OII Name: Earnings_Calls_Agent Description: None\n",
      "Agent asst_uDUAZq1cxoCnQ0JB3STo2OII deleted: {'id': 'asst_uDUAZq1cxoCnQ0JB3STo2OII', 'object': 'assistant.deleted', 'deleted': True}\n",
      "Agent ID: asst_iwKeSIy2LLNgkfARz4kO4se4 Name: Earnings_Calls_Agent Description: None\n",
      "Agent asst_iwKeSIy2LLNgkfARz4kO4se4 deleted: {'id': 'asst_iwKeSIy2LLNgkfARz4kO4se4', 'object': 'assistant.deleted', 'deleted': True}\n",
      "Agent ID: asst_5MsMxP4QWX0dbo7pGjq2Fy82 Name: Company_Analyst_Agent Description: None\n",
      "Agent asst_5MsMxP4QWX0dbo7pGjq2Fy82 deleted: {'id': 'asst_5MsMxP4QWX0dbo7pGjq2Fy82', 'object': 'assistant.deleted', 'deleted': True}\n",
      "Agent ID: asst_Reb36KpmKbGvZay5V5PXhUt6 Name: Company_Analyst_Agent Description: None\n",
      "Agent asst_Reb36KpmKbGvZay5V5PXhUt6 deleted: {'id': 'asst_Reb36KpmKbGvZay5V5PXhUt6', 'object': 'assistant.deleted', 'deleted': True}\n"
     ]
    }
   ],
   "source": [
    "for agent in agents.data:\n",
    "    print(f\"Agent ID: {agent.id} Name: {agent.name} Description: {agent.description}\")\n",
    "    status = await ai_project_client.agents.delete_agent(agent.id)\n",
    "    print(f\"Agent {agent.id} deleted: {status}\")"
   ]
  },
  {
   "cell_type": "code",
   "execution_count": null,
   "metadata": {},
   "outputs": [],
   "source": []
  }
 ],
 "metadata": {
  "kernelspec": {
   "display_name": "Python 3",
   "language": "python",
   "name": "python3"
  },
  "language_info": {
   "codemirror_mode": {
    "name": "ipython",
    "version": 3
   },
   "file_extension": ".py",
   "mimetype": "text/x-python",
   "name": "python",
   "nbconvert_exporter": "python",
   "pygments_lexer": "ipython3",
   "version": "3.11.9"
  }
 },
 "nbformat": 4,
 "nbformat_minor": 2
}
